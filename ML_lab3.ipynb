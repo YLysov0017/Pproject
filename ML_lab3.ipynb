{
  "nbformat": 4,
  "nbformat_minor": 0,
  "metadata": {
    "colab": {
      "provenance": [],
      "include_colab_link": true
    },
    "kernelspec": {
      "name": "python3",
      "display_name": "Python 3"
    },
    "language_info": {
      "name": "python"
    }
  },
  "cells": [
    {
      "cell_type": "markdown",
      "metadata": {
        "id": "view-in-github",
        "colab_type": "text"
      },
      "source": [
        "<a href=\"https://colab.research.google.com/github/YLysov0017/Pproject/blob/master/ML_lab3.ipynb\" target=\"_parent\"><img src=\"https://colab.research.google.com/assets/colab-badge.svg\" alt=\"Open In Colab\"/></a>"
      ]
    },
    {
      "cell_type": "markdown",
      "source": [
        "#Задание по практике 3"
      ],
      "metadata": {
        "id": "ABVO-2fV7MIT"
      }
    },
    {
      "cell_type": "markdown",
      "source": [
        "##Обработка пропущенных значений"
      ],
      "metadata": {
        "id": "MhYhrvl29fse"
      }
    },
    {
      "cell_type": "markdown",
      "source": [
        "Обработайте пропущенные значения:\n",
        "\n",
        "\n",
        "* Удалите пропущенные значения\n",
        "* Заполните при помощи медианы, среднего для числовых значений\n",
        "* Заполните при помощи моды для категориальных значений\n",
        "* Интерполируйте\n",
        "Выведите статистку после каждого метода и объясните\n"
      ],
      "metadata": {
        "id": "u3sUbPQh9v4a"
      }
    },
    {
      "cell_type": "code",
      "source": [
        "!pip install scikit-learn"
      ],
      "metadata": {
        "id": "1ctEtJYagg5D",
        "outputId": "e90c8a60-c86a-4cf9-90eb-d3ccb194403f",
        "colab": {
          "base_uri": "https://localhost:8080/"
        }
      },
      "execution_count": 1,
      "outputs": [
        {
          "output_type": "stream",
          "name": "stdout",
          "text": [
            "Requirement already satisfied: scikit-learn in /usr/local/lib/python3.10/dist-packages (1.2.2)\n",
            "Requirement already satisfied: numpy>=1.17.3 in /usr/local/lib/python3.10/dist-packages (from scikit-learn) (1.23.5)\n",
            "Requirement already satisfied: scipy>=1.3.2 in /usr/local/lib/python3.10/dist-packages (from scikit-learn) (1.11.3)\n",
            "Requirement already satisfied: joblib>=1.1.1 in /usr/local/lib/python3.10/dist-packages (from scikit-learn) (1.3.2)\n",
            "Requirement already satisfied: threadpoolctl>=2.0.0 in /usr/local/lib/python3.10/dist-packages (from scikit-learn) (3.2.0)\n"
          ]
        }
      ]
    },
    {
      "cell_type": "code",
      "source": [
        "import pandas as pd\n",
        "import numpy as np\n",
        "\n",
        "df = pd.read_csv('/content/crimes_against_women_2001-2014.csv')\n",
        "df[\"Dowry Deaths\"].describe()\n"
      ],
      "metadata": {
        "id": "dzr_txLDf-fe",
        "outputId": "3df887ca-dadc-4a0a-e778-5828e846acc7",
        "colab": {
          "base_uri": "https://localhost:8080/"
        }
      },
      "execution_count": 33,
      "outputs": [
        {
          "output_type": "execute_result",
          "data": {
            "text/plain": [
              "count    10677.000000\n",
              "mean        20.181699\n",
              "std         98.276531\n",
              "min          0.000000\n",
              "25%          1.000000\n",
              "50%          5.000000\n",
              "75%         16.000000\n",
              "max       2469.000000\n",
              "Name: Dowry Deaths, dtype: float64"
            ]
          },
          "metadata": {},
          "execution_count": 33
        }
      ]
    },
    {
      "cell_type": "code",
      "source": [
        "def create_holes(dataframe, column_name, hole_percentage):\n",
        "    \"\"\"\n",
        "    Создает \"дыры\" в указанной колонке заданного DataFrame.\n",
        "\n",
        "    Parameters:\n",
        "        dataframe (pd.DataFrame): Исходный DataFrame.\n",
        "        column_name (str): Имя колонки, в которой нужно создать \"дыры\".\n",
        "        hole_percentage (float): Процент дырявости, который указывает, какую часть данных следует заменить на NaN.\n",
        "\n",
        "    Returns:\n",
        "        pd.DataFrame: DataFrame с \"дырами\" в указанной колонке.\n",
        "    \"\"\"\n",
        "    if hole_percentage < 0 or hole_percentage > 100:\n",
        "        raise ValueError(\"Процент дырявости должен быть в диапазоне от 0 до 100.\")\n",
        "\n",
        "    dataframe_with_holes = dataframe.copy()\n",
        "    num_holes = int(len(dataframe) * (hole_percentage / 100))\n",
        "    hole_indices = np.random.choice(len(dataframe), num_holes, replace=False)\n",
        "    dataframe_with_holes.loc[hole_indices, column_name] = np.nan\n",
        "\n",
        "    return dataframe_with_holes"
      ],
      "metadata": {
        "id": "DgnX5MaOEuoD"
      },
      "execution_count": 7,
      "outputs": []
    },
    {
      "cell_type": "code",
      "source": [
        "df_dirty = create_holes(df, \"Dowry Deaths\", 20)\n",
        "print(df_dirty[\"Dowry Deaths\"].isnull().sum())\n",
        "df_dirty[\"Dowry Deaths\"].describe()\n"
      ],
      "metadata": {
        "id": "a_MP8tPuExx_",
        "outputId": "6753a2ee-d351-48e8-c343-101bcee7f930",
        "colab": {
          "base_uri": "https://localhost:8080/"
        }
      },
      "execution_count": 40,
      "outputs": [
        {
          "output_type": "stream",
          "name": "stdout",
          "text": [
            "2135\n"
          ]
        },
        {
          "output_type": "execute_result",
          "data": {
            "text/plain": [
              "count    8542.000000\n",
              "mean       19.658628\n",
              "std        94.908798\n",
              "min         0.000000\n",
              "25%         0.000000\n",
              "50%         5.000000\n",
              "75%        16.000000\n",
              "max      2469.000000\n",
              "Name: Dowry Deaths, dtype: float64"
            ]
          },
          "metadata": {},
          "execution_count": 40
        }
      ]
    },
    {
      "cell_type": "code",
      "source": [
        "#Удаление\n",
        "df_cleaned = df_dirty.dropna()\n",
        "print(df_cleaned[\"Dowry Deaths\"].isnull().sum())\n",
        "\n",
        "df_cleaned[\"Dowry Deaths\"].describe()\n"
      ],
      "metadata": {
        "id": "9LxTPK3j-Mni",
        "outputId": "560a0575-21df-4015-c3be-4b8ed8ecee7d",
        "colab": {
          "base_uri": "https://localhost:8080/"
        }
      },
      "execution_count": 35,
      "outputs": [
        {
          "output_type": "stream",
          "name": "stdout",
          "text": [
            "0\n"
          ]
        },
        {
          "output_type": "execute_result",
          "data": {
            "text/plain": [
              "count    8542.000000\n",
              "mean       20.807656\n",
              "std       103.273478\n",
              "min         0.000000\n",
              "25%         1.000000\n",
              "50%         5.000000\n",
              "75%        16.000000\n",
              "max      2469.000000\n",
              "Name: Dowry Deaths, dtype: float64"
            ]
          },
          "metadata": {},
          "execution_count": 35
        }
      ]
    },
    {
      "cell_type": "code",
      "source": [
        "#Заполнение при помощи медианы\n",
        "df_filled_median = df_dirty.fillna(df_dirty.median())\n",
        "\n",
        "df_filled_median[\"Dowry Deaths\"].describe()\n",
        "\n"
      ],
      "metadata": {
        "id": "rKHsQchj-OEy",
        "outputId": "5a75c6c2-7908-45bc-8c8e-566af375c557",
        "colab": {
          "base_uri": "https://localhost:8080/"
        }
      },
      "execution_count": 36,
      "outputs": [
        {
          "output_type": "stream",
          "name": "stderr",
          "text": [
            "<ipython-input-36-bc9fbef355ad>:2: FutureWarning: The default value of numeric_only in DataFrame.median is deprecated. In a future version, it will default to False. In addition, specifying 'numeric_only=None' is deprecated. Select only valid columns or specify the value of numeric_only to silence this warning.\n",
            "  df_filled_median = df_dirty.fillna(df_dirty.median())\n"
          ]
        },
        {
          "output_type": "execute_result",
          "data": {
            "text/plain": [
              "count    10677.000000\n",
              "mean        17.646717\n",
              "std         92.587839\n",
              "min          0.000000\n",
              "25%          1.000000\n",
              "50%          5.000000\n",
              "75%         12.000000\n",
              "max       2469.000000\n",
              "Name: Dowry Deaths, dtype: float64"
            ]
          },
          "metadata": {},
          "execution_count": 36
        }
      ]
    },
    {
      "cell_type": "code",
      "source": [
        "#Заполнение при помощи среднего\n",
        "df_filled_mean = df_dirty.fillna(df_dirty.mean())\n",
        "\n",
        "df_filled_mean[\"Dowry Deaths\"].describe()\n"
      ],
      "metadata": {
        "id": "I5yD46kJ-RnG",
        "outputId": "25070393-4510-4318-c211-4673be555193",
        "colab": {
          "base_uri": "https://localhost:8080/"
        }
      },
      "execution_count": 37,
      "outputs": [
        {
          "output_type": "stream",
          "name": "stderr",
          "text": [
            "<ipython-input-37-2a9c3baf1a3a>:2: FutureWarning: The default value of numeric_only in DataFrame.mean is deprecated. In a future version, it will default to False. In addition, specifying 'numeric_only=None' is deprecated. Select only valid columns or specify the value of numeric_only to silence this warning.\n",
            "  df_filled_mean = df_dirty.fillna(df_dirty.mean())\n"
          ]
        },
        {
          "output_type": "execute_result",
          "data": {
            "text/plain": [
              "count    10677.000000\n",
              "mean        20.807656\n",
              "std         92.371688\n",
              "min          0.000000\n",
              "25%          1.000000\n",
              "50%         10.000000\n",
              "75%         20.807656\n",
              "max       2469.000000\n",
              "Name: Dowry Deaths, dtype: float64"
            ]
          },
          "metadata": {},
          "execution_count": 37
        }
      ]
    },
    {
      "cell_type": "code",
      "source": [
        "#Заполнение при помощи моды\n",
        "df_filled_mode = df_dirty.fillna(df_dirty[\"Assault on women with intent to outrage her modesty\"].mode()[0])\n",
        "\n",
        "df_filled_mode[\"Dowry Deaths\"].describe()\n"
      ],
      "metadata": {
        "id": "Xa6NFfbi-Sse",
        "outputId": "4c4fdb2c-b345-4ad2-bfc6-2b51882fa809",
        "colab": {
          "base_uri": "https://localhost:8080/"
        }
      },
      "execution_count": 38,
      "outputs": [
        {
          "output_type": "execute_result",
          "data": {
            "text/plain": [
              "count    10677.000000\n",
              "mean        16.646905\n",
              "std         92.745883\n",
              "min          0.000000\n",
              "25%          0.000000\n",
              "50%          3.000000\n",
              "75%         12.000000\n",
              "max       2469.000000\n",
              "Name: Dowry Deaths, dtype: float64"
            ]
          },
          "metadata": {},
          "execution_count": 38
        }
      ]
    },
    {
      "cell_type": "code",
      "source": [
        "#Заполнение при помощи интерполяции\n",
        "df_interpolated = df_dirty.interpolate()\n",
        "\n",
        "df_dirty[\"Dowry Deaths\"].describe()\n"
      ],
      "metadata": {
        "id": "r9wnuCWbfxSq",
        "outputId": "10212652-4c61-420a-ecd7-e634f712e77d",
        "colab": {
          "base_uri": "https://localhost:8080/"
        }
      },
      "execution_count": 39,
      "outputs": [
        {
          "output_type": "execute_result",
          "data": {
            "text/plain": [
              "count    8542.000000\n",
              "mean       20.807656\n",
              "std       103.273478\n",
              "min         0.000000\n",
              "25%         1.000000\n",
              "50%         5.000000\n",
              "75%        16.000000\n",
              "max      2469.000000\n",
              "Name: Dowry Deaths, dtype: float64"
            ]
          },
          "metadata": {},
          "execution_count": 39
        }
      ]
    },
    {
      "cell_type": "markdown",
      "source": [
        "**Объясните**"
      ],
      "metadata": {
        "id": "MWNkMwe92msO"
      }
    },
    {
      "cell_type": "markdown",
      "source": [
        "Все методы изменили стандартное отклонение в ту или иную сторону. Заполнение модой уменьшило число свыше 75 квантиля, медиана его увеличила"
      ],
      "metadata": {
        "id": "plpMXL9IIIKm"
      }
    },
    {
      "cell_type": "markdown",
      "source": [
        "##Поиск выбросов и аномалий"
      ],
      "metadata": {
        "id": "wKpHoNEP9DLL"
      }
    },
    {
      "cell_type": "markdown",
      "source": [
        "**Те, кто выполняет задания со * делают поиск выбросов с помощью написанного ранее класса**\n",
        "\n",
        "Найти выбросы по числовой переменной (использовать метод основанный на среднем и на межквартильном размахе). Объясните результат\n",
        "\n",
        "Вывести статистику с выбросами и без. Сравните и объясните результат\n"
      ],
      "metadata": {
        "id": "8ZLZWEpH9IJG"
      }
    },
    {
      "cell_type": "code",
      "source": [
        "#Методом среднего\n",
        "\n",
        "\n",
        "mean_data = df[\"Dowry Deaths\"].mean()\n",
        "maximum = mean_data * 2\n",
        "res = []\n",
        "for item in df[\"Dowry Deaths\"]:\n",
        "  if abs(item - mean_data) < maximum:\n",
        "    res.append(item)\n",
        "\n",
        "df_mean = df[abs((df[\"Dowry Deaths\"] - mean_data) < maximum)]\n",
        "df_mean[\"Dowry Deaths\"].describe()\n"
      ],
      "metadata": {
        "id": "4CiY5ilj9ScK",
        "outputId": "a180beb8-8230-47c9-bc87-d37e0424067a",
        "colab": {
          "base_uri": "https://localhost:8080/"
        }
      },
      "execution_count": 71,
      "outputs": [
        {
          "output_type": "execute_result",
          "data": {
            "text/plain": [
              "count    10286.000000\n",
              "mean         9.533444\n",
              "std         11.916457\n",
              "min          0.000000\n",
              "25%          0.000000\n",
              "50%          5.000000\n",
              "75%         14.000000\n",
              "max         60.000000\n",
              "Name: Dowry Deaths, dtype: float64"
            ]
          },
          "metadata": {},
          "execution_count": 71
        }
      ]
    },
    {
      "cell_type": "code",
      "source": [
        "#При помощи межквартильного размаха\n",
        "Q1 =  df[\"Dowry Deaths\"].quantile(0.25)\n",
        "Q3 = df[\"Dowry Deaths\"].quantile(0.75)\n",
        "IQR = Q3 - Q1\n",
        "df_IQR = df[(df[\"Dowry Deaths\"] > (Q1-1.5*IQR )) & (df[\"Dowry Deaths\"] < (Q3+1.5*IQR))]\n",
        "df_IQR[\"Dowry Deaths\"].describe()"
      ],
      "metadata": {
        "id": "Bik5-uhm9TsQ",
        "outputId": "2d0081b4-31bc-43cb-9bb5-14c551f61e55",
        "colab": {
          "base_uri": "https://localhost:8080/"
        }
      },
      "execution_count": 67,
      "outputs": [
        {
          "output_type": "execute_result",
          "data": {
            "text/plain": [
              "count    9876.000000\n",
              "mean        7.995038\n",
              "std         9.330764\n",
              "min         0.000000\n",
              "25%         0.000000\n",
              "50%         4.000000\n",
              "75%        13.000000\n",
              "max        38.000000\n",
              "Name: Dowry Deaths, dtype: float64"
            ]
          },
          "metadata": {},
          "execution_count": 67
        }
      ]
    },
    {
      "cell_type": "code",
      "source": [
        "#Статистика и объяснение"
      ],
      "metadata": {
        "id": "DJihBMrZ2FXA"
      },
      "execution_count": null,
      "outputs": []
    },
    {
      "cell_type": "markdown",
      "source": [
        "Отсечение по межквартильному размаху оставляет меньше значений и сильнее срезает максимум"
      ],
      "metadata": {
        "id": "_0CQQ94qeTQI"
      }
    },
    {
      "cell_type": "markdown",
      "source": [
        "**Объяснения**"
      ],
      "metadata": {
        "id": "0Vr95U0U2Gjn"
      }
    },
    {
      "cell_type": "markdown",
      "source": [
        "##Дубликаты"
      ],
      "metadata": {
        "id": "GFTcdH6p2P3Y"
      }
    },
    {
      "cell_type": "markdown",
      "source": [
        "Проверьте датафрейм на дубликаты и удалите их, если дублей нет - создайте."
      ],
      "metadata": {
        "id": "0CdJ_8CK2WW6"
      }
    },
    {
      "cell_type": "code",
      "source": [
        "#Проверка на дубли\n",
        "dupls = df.duplicated()\n",
        "\n",
        "count = 0\n",
        "for i in dupls:\n",
        "  if (i): count +=1\n",
        "\n",
        "count\n"
      ],
      "metadata": {
        "id": "AIlBilOY2T6a",
        "outputId": "b8d5ec9d-c3c6-4d0d-b9cd-a93ec0523150",
        "colab": {
          "base_uri": "https://localhost:8080/"
        }
      },
      "execution_count": 47,
      "outputs": [
        {
          "output_type": "stream",
          "name": "stdout",
          "text": [
            "10677\n"
          ]
        }
      ]
    },
    {
      "cell_type": "code",
      "source": [
        "df_with_dupls = pd.concat((df, df.loc[0:100]))\n",
        "dupls = df_with_dupls.duplicated()\n",
        "count = 0\n",
        "for i in dupls:\n",
        "  if (i): count +=1\n",
        "\n",
        "count"
      ],
      "metadata": {
        "id": "DwSF8HGIV1IM",
        "outputId": "e520850a-4f08-4fa1-83b4-859a708f7328",
        "colab": {
          "base_uri": "https://localhost:8080/"
        }
      },
      "execution_count": 43,
      "outputs": [
        {
          "output_type": "execute_result",
          "data": {
            "text/plain": [
              "101"
            ]
          },
          "metadata": {},
          "execution_count": 43
        }
      ]
    },
    {
      "cell_type": "code",
      "source": [
        "#Удаление дублей\n",
        "df_no_duplicates = df_with_dupls.drop_duplicates()\n",
        "df_no_duplicates\n",
        "\n",
        "count = 0\n",
        "for i in dupls:\n",
        "  if (i): count +=1\n",
        "\n",
        "count"
      ],
      "metadata": {
        "id": "utEK5KD-2ec_",
        "outputId": "63750e1e-281e-4025-a887-b8b34240a1b5",
        "colab": {
          "base_uri": "https://localhost:8080/"
        }
      },
      "execution_count": 48,
      "outputs": [
        {
          "output_type": "execute_result",
          "data": {
            "text/plain": [
              "0"
            ]
          },
          "metadata": {},
          "execution_count": 48
        }
      ]
    },
    {
      "cell_type": "markdown",
      "source": [
        "## Преобразование признаков"
      ],
      "metadata": {
        "id": "WsO7LtNzgRGG"
      }
    },
    {
      "cell_type": "markdown",
      "source": [
        "Масштабируйте числовые признаки через MinMaxScaler, StandardScaler"
      ],
      "metadata": {
        "id": "gxjppvdhhLj2"
      }
    },
    {
      "cell_type": "code",
      "source": [
        "from sklearn.preprocessing import MinMaxScaler, StandardScaler\n",
        "\n",
        "# Creating instances\n",
        "min_max_scaler = MinMaxScaler()\n",
        "standard_scaler = StandardScaler()\n",
        "\n",
        "num_features = df.select_dtypes(include=['int']).columns\n",
        "scaler_minmax = MinMaxScaler()\n",
        "min_max_scaler = df.copy()\n",
        "min_max_scaler[num_features] = scaler_minmax.fit_transform(df[num_features])\n",
        "min_max_scaler[\"Dowry Deaths\"].unique()\n"
      ],
      "metadata": {
        "id": "x8PbpSZEgWvT",
        "outputId": "1bd282c5-2506-4aca-f3d9-77d83c52b4e6",
        "colab": {
          "base_uri": "https://localhost:8080/"
        }
      },
      "execution_count": 49,
      "outputs": [
        {
          "output_type": "execute_result",
          "data": {
            "text/plain": [
              "array([6.48035642e-03, 2.83515593e-03, 5.67031187e-03, 6.88537870e-03,\n",
              "       4.86026731e-03, 0.00000000e+00, 9.72053463e-03, 2.51113811e-02,\n",
              "       4.05022276e-03, 5.26528959e-03, 1.05305792e-02, 1.25556906e-02,\n",
              "       7.69542325e-03, 2.02511138e-03, 1.49858242e-02, 4.05022276e-04,\n",
              "       2.43013366e-03, 8.10044552e-04, 1.21506683e-03, 2.10611584e-02,\n",
              "       6.07533414e-03, 1.70109356e-01, 3.64520049e-03, 1.62008910e-03,\n",
              "       2.38963143e-02, 4.45524504e-03, 1.33657351e-02, 8.50546780e-03,\n",
              "       3.24017821e-03, 8.10044552e-03, 9.31551235e-03, 8.91049008e-03,\n",
              "       1.01255569e-02, 2.79465371e-02, 1.90360470e-02, 3.64520049e-02,\n",
              "       1.45808019e-02, 2.71364925e-02, 1.29607128e-02, 3.47914135e-01,\n",
              "       2.83515593e-02, 7.29040097e-03, 1.15431349e-01, 1.21506683e-02,\n",
              "       8.78898339e-02, 1.62008910e-02, 1.13406237e-02, 8.91049008e-02,\n",
              "       1.09356015e-02, 1.37707574e-02, 1.66059133e-02, 1.17456460e-02,\n",
              "       2.46658566e-01, 1.41757797e-02, 1.53908465e-02, 1.24746861e-01,\n",
              "       1.57958688e-02, 1.19076549e-01, 6.43985419e-02, 1.74159579e-02,\n",
              "       1.52288376e-01, 7.73592548e-02, 2.55164034e-02, 1.78209802e-02,\n",
              "       2.26812475e-02, 2.30862697e-02, 1.82260024e-02, 2.75415148e-02,\n",
              "       1.86310247e-02, 1.94410693e-02, 2.59214257e-02, 3.56419603e-02,\n",
              "       1.70109356e-02, 2.67314702e-02, 3.32118267e-02, 8.95504253e-01,\n",
              "       2.34912920e-02, 1.07330903e-01, 4.57675172e-02, 2.06561361e-02,\n",
              "       1.81855002e-01, 3.07816930e-02, 2.63264480e-02, 3.75455650e-01,\n",
              "       3.44268935e-02, 1.03685703e-01, 1.11381126e-01, 9.43701904e-02,\n",
              "       2.14661806e-02, 1.98460915e-02, 2.72985014e-01, 1.22721750e-01,\n",
              "       1.00445525e-01, 6.72336979e-02, 1.61603888e-01, 9.84204131e-02,\n",
              "       2.02511138e-02, 3.28068044e-02, 3.36168489e-02, 7.66707169e-01,\n",
              "       1.10571081e-01, 5.46780073e-02, 1.88740381e-01, 2.43013366e-02,\n",
              "       3.68165249e-01, 3.19967598e-02, 2.18712029e-02, 8.99149453e-02,\n",
              "       1.06115836e-01, 7.85743216e-02, 2.62454435e-01, 2.47063588e-02,\n",
              "       1.49048198e-01, 1.13001215e-01, 4.45524504e-02, 1.57553665e-01,\n",
              "       2.22762252e-02, 5.35439449e-01, 3.76670717e-02, 1.33252329e-01,\n",
              "       5.26528959e-02, 2.07371405e-01, 2.99716484e-02, 2.91616039e-02,\n",
              "       3.96921831e-02, 4.16767922e-01, 2.87565816e-02, 1.01660591e-01,\n",
              "       1.04900770e-01, 3.04171729e-01, 1.27176995e-01, 1.29202106e-01,\n",
              "       1.53503443e-01, 9.11300122e-02, 6.91778048e-01, 1.60388821e-01,\n",
              "       5.10328068e-02, 1.79424868e-01, 4.00972053e-02, 4.10692588e-01,\n",
              "       4.05022276e-02, 8.58647226e-02, 1.04090725e-01, 1.05710814e-01,\n",
              "       2.99311462e-01, 1.38112596e-01, 1.35277440e-01, 1.46213042e-01,\n",
              "       8.70797894e-02, 6.33454840e-01, 1.80639935e-01, 4.61725395e-02,\n",
              "       2.10206561e-01, 4.25273390e-02, 6.80437424e-02, 3.11867153e-02,\n",
              "       4.81166464e-01, 4.17172945e-02, 1.03280680e-01, 1.13811260e-01,\n",
              "       9.88254354e-02, 3.09437019e-01, 1.56743621e-01, 1.85095180e-01,\n",
              "       1.59578777e-01, 7.57391657e-02, 7.28230053e-01, 3.24017821e-02,\n",
              "       1.80234913e-01, 5.54880518e-02, 2.48278655e-01, 4.74686108e-01,\n",
              "       1.08950992e-01, 3.00526529e-01, 1.76589712e-01, 1.86715269e-01,\n",
              "       5.38679627e-02, 1.77804779e-01, 8.42446335e-02, 3.15917375e-02,\n",
              "       8.40826245e-01, 1.82665047e-01, 5.58930741e-02, 2.25192386e-01,\n",
              "       3.03766707e-02, 4.90076954e-01, 4.29323613e-02, 1.22316727e-01,\n",
              "       1.07735925e-01, 3.26042932e-01, 1.57958688e-01, 1.62413933e-01,\n",
              "       5.18428514e-02, 8.38396112e-02, 3.48319158e-02, 9.06034832e-01,\n",
              "       2.95666262e-02, 5.22478736e-02, 2.21142163e-01, 6.88537870e-02,\n",
              "       3.84771162e-02, 5.24503848e-01, 1.19481571e-01, 1.06925881e-01,\n",
              "       3.47509113e-01, 1.55528554e-01, 9.04009721e-01, 3.80720940e-02,\n",
              "       2.04941272e-01, 5.71081409e-02, 2.38153098e-01, 7.08788983e-02,\n",
              "       5.09113001e-01, 4.65775618e-02, 1.15026326e-01, 1.11786148e-01,\n",
              "       3.61279870e-01, 1.59173755e-01, 1.57148643e-01, 4.90076954e-02,\n",
              "       1.87120292e-01, 6.68286756e-02, 3.40218712e-02, 3.72620494e-02,\n",
              "       8.97934386e-01, 2.05346294e-01, 5.79181855e-02, 2.42608343e-01,\n",
              "       4.53624949e-02, 5.62980964e-02, 5.72296476e-01, 4.21223167e-02,\n",
              "       1.14216282e-01, 1.08140948e-01, 3.28473066e-01, 1.37302552e-01,\n",
              "       1.88335358e-01, 2.08181450e-01, 6.15633860e-02, 3.52369380e-02,\n",
              "       9.40461725e-01, 2.06561361e-01, 5.75131632e-02, 2.04131227e-01,\n",
              "       5.67031187e-02, 3.92871608e-02, 5.16403402e-01, 1.04495747e-01,\n",
              "       8.82948562e-02, 3.00931551e-01, 2.12636695e-01, 4.77926286e-02,\n",
              "       1.93600648e-01, 9.08869988e-01, 2.40178210e-01, 5.42729850e-02,\n",
              "       1.99270960e-01, 3.88821385e-02, 4.78736330e-01, 4.41474281e-02,\n",
              "       1.06520859e-01, 1.24341839e-01, 1.12191171e-01, 3.14297286e-01,\n",
              "       1.29607128e-01, 1.59983799e-01, 1.83475091e-01, 9.45727015e-01,\n",
              "       1.94815715e-01, 5.83232078e-02, 7.61441879e-02, 7.20939652e-02,\n",
              "       5.56095585e-01, 1.18671527e-01, 1.41757797e-01, 1.26771972e-01,\n",
              "       2.96881328e-01, 1.78614824e-01, 1.65249089e-01, 1.17051438e-01,\n",
              "       1.00000000e+00, 2.02916160e-01, 6.19684083e-02])"
            ]
          },
          "metadata": {},
          "execution_count": 49
        }
      ]
    },
    {
      "cell_type": "code",
      "source": [
        "standard_scaler = StandardScaler()\n",
        "st_scaler = df.copy()\n",
        "st_scaler[num_features] = standard_scaler.fit_transform(df[num_features])\n",
        "st_scaler[\"Dowry Deaths\"].unique()"
      ],
      "metadata": {
        "id": "JF3g5espXUeU",
        "outputId": "bcf1f8e3-fc8d-4571-d76c-22f6096cddba",
        "colab": {
          "base_uri": "https://localhost:8080/"
        }
      },
      "execution_count": 51,
      "outputs": [
        {
          "output_type": "execute_result",
          "data": {
            "text/plain": [
              "array([-4.25523245e-02, -1.34134938e-01, -6.29040164e-02, -3.23764786e-02,\n",
              "       -8.32557082e-02, -2.05365859e-01,  3.88544429e-02,  4.25536588e-01,\n",
              "       -1.03607400e-01, -7.30798623e-02,  5.92061347e-02,  1.10085364e-01,\n",
              "       -1.20247867e-02, -1.54486630e-01,  1.71140440e-01, -1.95190013e-01,\n",
              "       -1.44310784e-01, -1.85014167e-01, -1.74838321e-01,  3.23778129e-01,\n",
              "       -5.27281704e-02,  4.06848943e+00, -1.13783246e-01, -1.64662476e-01,\n",
              "        3.95009050e-01, -9.34315541e-02,  1.30437056e-01,  8.32690511e-03,\n",
              "       -1.23959092e-01, -1.84894082e-03,  2.86785970e-02,  1.85027510e-02,\n",
              "        4.90302888e-02,  4.96767509e-01,  2.72898899e-01,  7.10460274e-01,\n",
              "        1.60964594e-01,  4.76415818e-01,  1.20261210e-01,  8.53568579e+00,\n",
              "        5.06943355e-01, -2.22006327e-02,  2.69475023e+00,  9.99095184e-02,\n",
              "        2.00279271e+00,  2.01667978e-01,  7.95578266e-02,  2.03332024e+00,\n",
              "        6.93819806e-02,  1.40612902e-01,  2.11843824e-01,  8.97336725e-02,\n",
              "        5.99172431e+00,  1.50788748e-01,  1.81316286e-01,  2.92879468e+00,\n",
              "        1.91492132e-01,  2.78633284e+00,  1.41259364e+00,  2.32195515e-01,\n",
              "        3.62075221e+00,  1.73822071e+00,  4.35712434e-01,  2.42371361e-01,\n",
              "        3.64481512e-01,  3.74657358e-01,  2.52547207e-01,  4.86591663e-01,\n",
              "        2.62723053e-01,  2.83074745e-01,  4.45888280e-01,  6.90108582e-01,\n",
              "        2.22019669e-01,  4.66239972e-01,  6.29053506e-01,  2.22934295e+01,\n",
              "        3.84833204e-01,  2.49123331e+00,  9.44504730e-01,  3.13602283e-01,\n",
              "        4.36358896e+00,  5.67998431e-01,  4.56064126e-01,  9.22764331e+00,\n",
              "        6.59581044e-01,  2.39965070e+00,  2.59299177e+00,  2.16560624e+00,\n",
              "        3.33953975e-01,  2.93250591e-01,  6.65315429e+00,  2.87791546e+00,\n",
              "        2.31824393e+00,  1.48382456e+00,  3.85479666e+00,  2.26736470e+00,\n",
              "        3.03426437e-01,  6.18877660e-01,  6.39229352e-01,  1.90575105e+01,\n",
              "        2.57264008e+00,  1.16837334e+00,  4.53657834e+00,  4.05184896e-01,\n",
              "        9.04447808e+00,  5.98525969e-01,  3.44129821e-01,  2.05367194e+00,\n",
              "        2.46070577e+00,  1.76874825e+00,  6.38858230e+00,  4.15360742e-01,\n",
              "        3.53934544e+00,  2.63369515e+00,  9.13977192e-01,  3.75303820e+00,\n",
              "        3.54305666e-01,  1.32471025e+01,  7.40987812e-01,  3.14248745e+00,\n",
              "        1.11749411e+00,  5.00466725e+00,  5.47646739e-01,  5.27295047e-01,\n",
              "        7.91867041e-01,  1.02655796e+01,  5.17119201e-01,  2.34877147e+00,\n",
              "        2.43017823e+00,  7.43669443e+00,  2.98984976e+00,  3.04072899e+00,\n",
              "        3.65127975e+00,  2.08419947e+00,  1.71749790e+01,  3.82426913e+00,\n",
              "        1.07679073e+00,  4.30253388e+00,  8.02042887e-01,  1.01129419e+01,\n",
              "        8.12218733e-01,  1.95191348e+00,  2.40982654e+00,  2.45052993e+00,\n",
              "        7.31458428e+00,  3.26459760e+00,  3.19336668e+00,  3.46811452e+00,\n",
              "        1.98244101e+00,  1.57096572e+01,  4.33306142e+00,  9.54680576e-01,\n",
              "        5.07589817e+00,  8.63097963e-01,  1.50417626e+00,  5.78174277e-01,\n",
              "        1.18835391e+01,  8.42746271e-01,  2.38947485e+00,  2.65404684e+00,\n",
              "        2.27754055e+00,  7.56898043e+00,  3.73268651e+00,  4.44499573e+00,\n",
              "        3.80391743e+00,  1.69751733e+00,  1.80908051e+01,  6.08701815e-01,\n",
              "        4.32288558e+00,  1.18872503e+00,  6.03242769e+00,  1.17207256e+01,\n",
              "        2.53193669e+00,  7.34511182e+00,  4.23130296e+00,  4.48569911e+00,\n",
              "        1.14802165e+00,  4.26183050e+00,  1.91121009e+00,  5.88350123e-01,\n",
              "        2.09196903e+01,  4.38394065e+00,  1.19890088e+00,  5.45240447e+00,\n",
              "        5.57822585e-01,  1.21074077e+01,  8.73273809e-01,  2.86773961e+00,\n",
              "        2.50140916e+00,  7.98619011e+00,  3.76321405e+00,  3.87514836e+00,\n",
              "        1.09714242e+00,  1.90103425e+00,  6.69756890e-01,  2.25580015e+01,\n",
              "        5.37470893e-01,  1.10731826e+00,  5.35064601e+00,  1.52452795e+00,\n",
              "        7.61339503e-01,  1.29723546e+01,  2.79650869e+00,  2.48105746e+00,\n",
              "        8.52550994e+00,  3.70215898e+00,  2.25071222e+01,  7.51163657e-01,\n",
              "        4.94361218e+00,  1.22942842e+00,  5.77803154e+00,  1.57540718e+00,\n",
              "        1.25856725e+01,  9.64856422e-01,  2.68457438e+00,  2.60316762e+00,\n",
              "        8.87148870e+00,  3.79374159e+00,  3.74286236e+00,  1.02591150e+00,\n",
              "        4.49587496e+00,  1.47364872e+00,  6.49405198e-01,  7.30811966e-01,\n",
              "        2.23544846e+01,  4.95378802e+00,  1.24978011e+00,  5.88996585e+00,\n",
              "        9.34328884e-01,  1.20907672e+00,  1.41731044e+01,  8.52922117e-01,\n",
              "        2.66422269e+00,  2.51158500e+00,  8.04724518e+00,  3.24424591e+00,\n",
              "        4.52640249e+00,  5.02501894e+00,  1.34136272e+00,  6.79932736e-01,\n",
              "        2.34229484e+01,  4.98431556e+00,  1.23960426e+00,  4.92326049e+00,\n",
              "        1.21925257e+00,  7.81691195e-01,  1.27688377e+01,  2.42000239e+00,\n",
              "        2.01296855e+00,  7.35528766e+00,  5.13695325e+00,  9.95383960e-01,\n",
              "        4.65868849e+00,  2.26292324e+01,  5.82891077e+00,  1.15819749e+00,\n",
              "        4.80115033e+00,  7.71515349e-01,  1.18224840e+01,  9.03801346e-01,\n",
              "        2.47088162e+00,  2.91861884e+00,  2.61334346e+00,  7.69109058e+00,\n",
              "        3.05090484e+00,  3.81409328e+00,  4.40429234e+00,  2.35552344e+01,\n",
              "        4.68921603e+00,  1.25995595e+00,  1.70769317e+00,  1.60593471e+00,\n",
              "        1.37660706e+01,  2.77615700e+00,  3.35618021e+00,  2.97967391e+00,\n",
              "        7.25352920e+00,  4.28218219e+00,  3.94637928e+00,  2.73545361e+00,\n",
              "        2.49187977e+01,  4.89273295e+00,  1.35153857e+00])"
            ]
          },
          "metadata": {},
          "execution_count": 51
        }
      ]
    },
    {
      "cell_type": "markdown",
      "source": [
        "Масштабируйте категориальные признаки через OneHotEncoder"
      ],
      "metadata": {
        "id": "ZvkQGZjjhRKx"
      }
    },
    {
      "cell_type": "code",
      "source": [
        "from sklearn.preprocessing import OneHotEncoder\n",
        "df[\"STATE/UT \"] = df[\"STATE/UT\"].astype(\"category\")\n",
        "df[\"DISTRICT\"] = df[\"DISTRICT\"].astype(\"category\")\n",
        "\n",
        "\n",
        "# Create an instance of OneHotEncoder\n",
        "encoder = OneHotEncoder()\n",
        "cat_features = df.select_dtypes(include=['category']).columns\n",
        "x = encoder.fit_transform(df[[\"STATE/UT\"]]).toarray()\n",
        "x"
      ],
      "metadata": {
        "id": "7qHieucyhIp_",
        "outputId": "8239188c-1128-4782-9c1f-45f499934740",
        "colab": {
          "base_uri": "https://localhost:8080/"
        }
      },
      "execution_count": 57,
      "outputs": [
        {
          "output_type": "execute_result",
          "data": {
            "text/plain": [
              "array([[0., 0., 0., ..., 0., 0., 0.],\n",
              "       [0., 0., 0., ..., 0., 0., 0.],\n",
              "       [0., 0., 0., ..., 0., 0., 0.],\n",
              "       ...,\n",
              "       [0., 0., 0., ..., 0., 0., 0.],\n",
              "       [0., 0., 0., ..., 0., 0., 0.],\n",
              "       [0., 0., 0., ..., 0., 0., 0.]])"
            ]
          },
          "metadata": {},
          "execution_count": 57
        }
      ]
    },
    {
      "cell_type": "markdown",
      "source": [
        "##Задание для гениев*"
      ],
      "metadata": {
        "id": "_2jadyIC-YgY"
      }
    },
    {
      "cell_type": "markdown",
      "source": [
        "\n",
        "Реализовать расчет корреляции Спирмана"
      ],
      "metadata": {
        "id": "LSaaJQAE-f19"
      }
    },
    {
      "cell_type": "code",
      "source": [
        "#Функция по расчету тут"
      ],
      "metadata": {
        "id": "tnrZBtZR_Qdr"
      },
      "execution_count": null,
      "outputs": []
    },
    {
      "cell_type": "code",
      "source": [
        "#Пример использования тут и объяснение принципа работы"
      ],
      "metadata": {
        "id": "ssyBbYH0GBOD"
      },
      "execution_count": null,
      "outputs": []
    },
    {
      "cell_type": "markdown",
      "source": [
        "###Пример реализации"
      ],
      "metadata": {
        "id": "Pfj7vn6rGIlv"
      }
    },
    {
      "cell_type": "code",
      "source": [
        "import pandas as pd\n",
        "import numpy as np\n",
        "\n",
        "\n",
        "def corr_pearson(column_1, column_2):\n",
        "  cov = np.cov(column_1, column_2)\n",
        "  return cov/(column_1.std() * column_2.std())"
      ],
      "metadata": {
        "id": "AEI4iVKVEk-y"
      },
      "execution_count": null,
      "outputs": []
    },
    {
      "cell_type": "code",
      "source": [
        "data = {\n",
        "    'Рост': [170, 155, 180, 162, 175],\n",
        "    'Вес': [65, 50, 75, 55, 70]\n",
        "}\n",
        "df = pd.DataFrame(data)\n",
        "df"
      ],
      "metadata": {
        "colab": {
          "base_uri": "https://localhost:8080/",
          "height": 206
        },
        "id": "cA21VxiDFXau",
        "outputId": "742ce5f4-31f5-4f59-94fa-669ceeef8e41"
      },
      "execution_count": null,
      "outputs": [
        {
          "output_type": "execute_result",
          "data": {
            "text/plain": [
              "   Рост  Вес\n",
              "0   170   65\n",
              "1   155   50\n",
              "2   180   75\n",
              "3   162   55\n",
              "4   175   70"
            ],
            "text/html": [
              "\n",
              "  <div id=\"df-5e34decd-d153-410b-a124-461ff2fd98ac\" class=\"colab-df-container\">\n",
              "    <div>\n",
              "<style scoped>\n",
              "    .dataframe tbody tr th:only-of-type {\n",
              "        vertical-align: middle;\n",
              "    }\n",
              "\n",
              "    .dataframe tbody tr th {\n",
              "        vertical-align: top;\n",
              "    }\n",
              "\n",
              "    .dataframe thead th {\n",
              "        text-align: right;\n",
              "    }\n",
              "</style>\n",
              "<table border=\"1\" class=\"dataframe\">\n",
              "  <thead>\n",
              "    <tr style=\"text-align: right;\">\n",
              "      <th></th>\n",
              "      <th>Рост</th>\n",
              "      <th>Вес</th>\n",
              "    </tr>\n",
              "  </thead>\n",
              "  <tbody>\n",
              "    <tr>\n",
              "      <th>0</th>\n",
              "      <td>170</td>\n",
              "      <td>65</td>\n",
              "    </tr>\n",
              "    <tr>\n",
              "      <th>1</th>\n",
              "      <td>155</td>\n",
              "      <td>50</td>\n",
              "    </tr>\n",
              "    <tr>\n",
              "      <th>2</th>\n",
              "      <td>180</td>\n",
              "      <td>75</td>\n",
              "    </tr>\n",
              "    <tr>\n",
              "      <th>3</th>\n",
              "      <td>162</td>\n",
              "      <td>55</td>\n",
              "    </tr>\n",
              "    <tr>\n",
              "      <th>4</th>\n",
              "      <td>175</td>\n",
              "      <td>70</td>\n",
              "    </tr>\n",
              "  </tbody>\n",
              "</table>\n",
              "</div>\n",
              "    <div class=\"colab-df-buttons\">\n",
              "\n",
              "  <div class=\"colab-df-container\">\n",
              "    <button class=\"colab-df-convert\" onclick=\"convertToInteractive('df-5e34decd-d153-410b-a124-461ff2fd98ac')\"\n",
              "            title=\"Convert this dataframe to an interactive table.\"\n",
              "            style=\"display:none;\">\n",
              "\n",
              "  <svg xmlns=\"http://www.w3.org/2000/svg\" height=\"24px\" viewBox=\"0 -960 960 960\">\n",
              "    <path d=\"M120-120v-720h720v720H120Zm60-500h600v-160H180v160Zm220 220h160v-160H400v160Zm0 220h160v-160H400v160ZM180-400h160v-160H180v160Zm440 0h160v-160H620v160ZM180-180h160v-160H180v160Zm440 0h160v-160H620v160Z\"/>\n",
              "  </svg>\n",
              "    </button>\n",
              "\n",
              "  <style>\n",
              "    .colab-df-container {\n",
              "      display:flex;\n",
              "      gap: 12px;\n",
              "    }\n",
              "\n",
              "    .colab-df-convert {\n",
              "      background-color: #E8F0FE;\n",
              "      border: none;\n",
              "      border-radius: 50%;\n",
              "      cursor: pointer;\n",
              "      display: none;\n",
              "      fill: #1967D2;\n",
              "      height: 32px;\n",
              "      padding: 0 0 0 0;\n",
              "      width: 32px;\n",
              "    }\n",
              "\n",
              "    .colab-df-convert:hover {\n",
              "      background-color: #E2EBFA;\n",
              "      box-shadow: 0px 1px 2px rgba(60, 64, 67, 0.3), 0px 1px 3px 1px rgba(60, 64, 67, 0.15);\n",
              "      fill: #174EA6;\n",
              "    }\n",
              "\n",
              "    .colab-df-buttons div {\n",
              "      margin-bottom: 4px;\n",
              "    }\n",
              "\n",
              "    [theme=dark] .colab-df-convert {\n",
              "      background-color: #3B4455;\n",
              "      fill: #D2E3FC;\n",
              "    }\n",
              "\n",
              "    [theme=dark] .colab-df-convert:hover {\n",
              "      background-color: #434B5C;\n",
              "      box-shadow: 0px 1px 3px 1px rgba(0, 0, 0, 0.15);\n",
              "      filter: drop-shadow(0px 1px 2px rgba(0, 0, 0, 0.3));\n",
              "      fill: #FFFFFF;\n",
              "    }\n",
              "  </style>\n",
              "\n",
              "    <script>\n",
              "      const buttonEl =\n",
              "        document.querySelector('#df-5e34decd-d153-410b-a124-461ff2fd98ac button.colab-df-convert');\n",
              "      buttonEl.style.display =\n",
              "        google.colab.kernel.accessAllowed ? 'block' : 'none';\n",
              "\n",
              "      async function convertToInteractive(key) {\n",
              "        const element = document.querySelector('#df-5e34decd-d153-410b-a124-461ff2fd98ac');\n",
              "        const dataTable =\n",
              "          await google.colab.kernel.invokeFunction('convertToInteractive',\n",
              "                                                    [key], {});\n",
              "        if (!dataTable) return;\n",
              "\n",
              "        const docLinkHtml = 'Like what you see? Visit the ' +\n",
              "          '<a target=\"_blank\" href=https://colab.research.google.com/notebooks/data_table.ipynb>data table notebook</a>'\n",
              "          + ' to learn more about interactive tables.';\n",
              "        element.innerHTML = '';\n",
              "        dataTable['output_type'] = 'display_data';\n",
              "        await google.colab.output.renderOutput(dataTable, element);\n",
              "        const docLink = document.createElement('div');\n",
              "        docLink.innerHTML = docLinkHtml;\n",
              "        element.appendChild(docLink);\n",
              "      }\n",
              "    </script>\n",
              "  </div>\n",
              "\n",
              "\n",
              "<div id=\"df-c731c29d-bb96-4602-8e42-f2f29e504ea1\">\n",
              "  <button class=\"colab-df-quickchart\" onclick=\"quickchart('df-c731c29d-bb96-4602-8e42-f2f29e504ea1')\"\n",
              "            title=\"Suggest charts.\"\n",
              "            style=\"display:none;\">\n",
              "\n",
              "<svg xmlns=\"http://www.w3.org/2000/svg\" height=\"24px\"viewBox=\"0 0 24 24\"\n",
              "     width=\"24px\">\n",
              "    <g>\n",
              "        <path d=\"M19 3H5c-1.1 0-2 .9-2 2v14c0 1.1.9 2 2 2h14c1.1 0 2-.9 2-2V5c0-1.1-.9-2-2-2zM9 17H7v-7h2v7zm4 0h-2V7h2v10zm4 0h-2v-4h2v4z\"/>\n",
              "    </g>\n",
              "</svg>\n",
              "  </button>\n",
              "\n",
              "<style>\n",
              "  .colab-df-quickchart {\n",
              "      --bg-color: #E8F0FE;\n",
              "      --fill-color: #1967D2;\n",
              "      --hover-bg-color: #E2EBFA;\n",
              "      --hover-fill-color: #174EA6;\n",
              "      --disabled-fill-color: #AAA;\n",
              "      --disabled-bg-color: #DDD;\n",
              "  }\n",
              "\n",
              "  [theme=dark] .colab-df-quickchart {\n",
              "      --bg-color: #3B4455;\n",
              "      --fill-color: #D2E3FC;\n",
              "      --hover-bg-color: #434B5C;\n",
              "      --hover-fill-color: #FFFFFF;\n",
              "      --disabled-bg-color: #3B4455;\n",
              "      --disabled-fill-color: #666;\n",
              "  }\n",
              "\n",
              "  .colab-df-quickchart {\n",
              "    background-color: var(--bg-color);\n",
              "    border: none;\n",
              "    border-radius: 50%;\n",
              "    cursor: pointer;\n",
              "    display: none;\n",
              "    fill: var(--fill-color);\n",
              "    height: 32px;\n",
              "    padding: 0;\n",
              "    width: 32px;\n",
              "  }\n",
              "\n",
              "  .colab-df-quickchart:hover {\n",
              "    background-color: var(--hover-bg-color);\n",
              "    box-shadow: 0 1px 2px rgba(60, 64, 67, 0.3), 0 1px 3px 1px rgba(60, 64, 67, 0.15);\n",
              "    fill: var(--button-hover-fill-color);\n",
              "  }\n",
              "\n",
              "  .colab-df-quickchart-complete:disabled,\n",
              "  .colab-df-quickchart-complete:disabled:hover {\n",
              "    background-color: var(--disabled-bg-color);\n",
              "    fill: var(--disabled-fill-color);\n",
              "    box-shadow: none;\n",
              "  }\n",
              "\n",
              "  .colab-df-spinner {\n",
              "    border: 2px solid var(--fill-color);\n",
              "    border-color: transparent;\n",
              "    border-bottom-color: var(--fill-color);\n",
              "    animation:\n",
              "      spin 1s steps(1) infinite;\n",
              "  }\n",
              "\n",
              "  @keyframes spin {\n",
              "    0% {\n",
              "      border-color: transparent;\n",
              "      border-bottom-color: var(--fill-color);\n",
              "      border-left-color: var(--fill-color);\n",
              "    }\n",
              "    20% {\n",
              "      border-color: transparent;\n",
              "      border-left-color: var(--fill-color);\n",
              "      border-top-color: var(--fill-color);\n",
              "    }\n",
              "    30% {\n",
              "      border-color: transparent;\n",
              "      border-left-color: var(--fill-color);\n",
              "      border-top-color: var(--fill-color);\n",
              "      border-right-color: var(--fill-color);\n",
              "    }\n",
              "    40% {\n",
              "      border-color: transparent;\n",
              "      border-right-color: var(--fill-color);\n",
              "      border-top-color: var(--fill-color);\n",
              "    }\n",
              "    60% {\n",
              "      border-color: transparent;\n",
              "      border-right-color: var(--fill-color);\n",
              "    }\n",
              "    80% {\n",
              "      border-color: transparent;\n",
              "      border-right-color: var(--fill-color);\n",
              "      border-bottom-color: var(--fill-color);\n",
              "    }\n",
              "    90% {\n",
              "      border-color: transparent;\n",
              "      border-bottom-color: var(--fill-color);\n",
              "    }\n",
              "  }\n",
              "</style>\n",
              "\n",
              "  <script>\n",
              "    async function quickchart(key) {\n",
              "      const quickchartButtonEl =\n",
              "        document.querySelector('#' + key + ' button');\n",
              "      quickchartButtonEl.disabled = true;  // To prevent multiple clicks.\n",
              "      quickchartButtonEl.classList.add('colab-df-spinner');\n",
              "      try {\n",
              "        const charts = await google.colab.kernel.invokeFunction(\n",
              "            'suggestCharts', [key], {});\n",
              "      } catch (error) {\n",
              "        console.error('Error during call to suggestCharts:', error);\n",
              "      }\n",
              "      quickchartButtonEl.classList.remove('colab-df-spinner');\n",
              "      quickchartButtonEl.classList.add('colab-df-quickchart-complete');\n",
              "    }\n",
              "    (() => {\n",
              "      let quickchartButtonEl =\n",
              "        document.querySelector('#df-c731c29d-bb96-4602-8e42-f2f29e504ea1 button');\n",
              "      quickchartButtonEl.style.display =\n",
              "        google.colab.kernel.accessAllowed ? 'block' : 'none';\n",
              "    })();\n",
              "  </script>\n",
              "</div>\n",
              "    </div>\n",
              "  </div>\n"
            ]
          },
          "metadata": {},
          "execution_count": 15
        }
      ]
    },
    {
      "cell_type": "code",
      "source": [
        "corr_pearson(df[\"Рост\"], df[\"Вес\"])"
      ],
      "metadata": {
        "colab": {
          "base_uri": "https://localhost:8080/"
        },
        "id": "7SPWZbbVFjx0",
        "outputId": "b22ebe57-f784-4883-d0b7-6e6b3f1bc972"
      },
      "execution_count": null,
      "outputs": [
        {
          "output_type": "execute_result",
          "data": {
            "text/plain": [
              "array([[0.96593129, 0.99674864],\n",
              "       [0.99674864, 1.03527033]])"
            ]
          },
          "metadata": {},
          "execution_count": 16
        }
      ]
    }
  ]
}