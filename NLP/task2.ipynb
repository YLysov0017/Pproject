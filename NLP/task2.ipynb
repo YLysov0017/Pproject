{
 "cells": [
  {
   "cell_type": "markdown",
   "id": "2cedd1c9-cd52-4efe-ac53-03ec6d130670",
   "metadata": {},
   "source": [
    "# Лабараторная работа 1"
   ]
  },
  {
   "cell_type": "markdown",
   "id": "0173053d-bb63-4a9f-b60f-e09c00d49693",
   "metadata": {},
   "source": [
    "Суть - векторизовать контент статьи и кластеризовать данные"
   ]
  },
  {
   "cell_type": "markdown",
   "id": "a7c41eb6-5382-44d4-8b2f-950646f10f98",
   "metadata": {},
   "source": [
    "**Этап 1 - нормализация**\n",
    "\n",
    "С помощью библиотеки natasha или pymorphy 2 - преобразовать текст в нормальную форму, выбросить стоп-слова\n",
    "\n",
    "**Этап 2 - веткоризация**\n",
    "\n",
    "Используйте 1 из представленных способов\n",
    "\n",
    "- CountVectorizer (sklearn)\n",
    "- TFIDFVectrorizer (sklearn)\n",
    "- Word2Vec (gensim)\n",
    "\n",
    "**Этап 3 - Сжатие векторов**\n",
    "\n",
    "С помощью PCA - сжать векторы до 2-точек, для построения кластеров\n",
    "\n",
    "**Этап 3 - клатеризация**\n",
    "\n",
    "- использовать KMeans\n",
    "- Использовать DBSSCAN\n",
    "\n",
    "**Этап 4 - результаты анализа**\n",
    "\n",
    "Выделить темы, по которым были построены кластеры"
   ]
  },
  {
   "cell_type": "code",
   "execution_count": null,
   "id": "4e130c68-86f9-41ec-b978-3384d835ae2d",
   "metadata": {},
   "outputs": [],
   "source": [
    "!pip install natasha\n",
    "!pip install gensim\n",
    "!pip install scikit-learn"
   ]
  },
  {
   "cell_type": "code",
   "execution_count": null,
   "id": "84c993db-b495-420f-a80e-41169536b923",
   "metadata": {},
   "outputs": [],
   "source": []
  }
 ],
 "metadata": {
  "kernelspec": {
   "display_name": "Python 3",
   "language": "python",
   "name": "python3"
  },
  "language_info": {
   "codemirror_mode": {
    "name": "ipython",
    "version": 3
   },
   "file_extension": ".py",
   "mimetype": "text/x-python",
   "name": "python",
   "nbconvert_exporter": "python",
   "pygments_lexer": "ipython3",
   "version": "3.9.1"
  }
 },
 "nbformat": 4,
 "nbformat_minor": 5
}
